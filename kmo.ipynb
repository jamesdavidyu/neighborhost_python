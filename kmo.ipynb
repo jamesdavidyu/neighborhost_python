{
 "cells": [
  {
   "cell_type": "code",
   "execution_count": 7,
   "metadata": {},
   "outputs": [],
   "source": [
    "import pyautogui\n",
    "import time"
   ]
  },
  {
   "cell_type": "code",
   "execution_count": 8,
   "metadata": {},
   "outputs": [
    {
     "ename": "KeyboardInterrupt",
     "evalue": "",
     "output_type": "error",
     "traceback": [
      "\u001b[0;31m---------------------------------------------------------------------------\u001b[0m",
      "\u001b[0;31mKeyboardInterrupt\u001b[0m                         Traceback (most recent call last)",
      "Cell \u001b[0;32mIn[8], line 2\u001b[0m\n\u001b[1;32m      1\u001b[0m \u001b[38;5;28;01mwhile\u001b[39;00m \u001b[38;5;28;01mTrue\u001b[39;00m:\n\u001b[0;32m----> 2\u001b[0m     time\u001b[38;5;241m.\u001b[39msleep(\u001b[38;5;241m15\u001b[39m)\n\u001b[1;32m      3\u001b[0m     pyautogui\u001b[38;5;241m.\u001b[39mclick(pyautogui\u001b[38;5;241m.\u001b[39mposition())\n\u001b[1;32m      4\u001b[0m     \u001b[38;5;66;03m# pyautogui.hotkey('a')\u001b[39;00m\n\u001b[1;32m      5\u001b[0m     \u001b[38;5;66;03m# pyautogui.hotkey('backspace')\u001b[39;00m\n\u001b[1;32m      6\u001b[0m     \u001b[38;5;66;03m# pyautogui.hotkey('ctrl','s')\u001b[39;00m\n",
      "\u001b[0;31mKeyboardInterrupt\u001b[0m: "
     ]
    }
   ],
   "source": [
    "while True:\n",
    "    time.sleep(15)\n",
    "    pyautogui.click(pyautogui.position())\n",
    "    # pyautogui.hotkey('a')\n",
    "    # pyautogui.hotkey('backspace')\n",
    "    # pyautogui.hotkey('ctrl','s')"
   ]
  },
  {
   "cell_type": "code",
   "execution_count": null,
   "metadata": {},
   "outputs": [],
   "source": []
  }
 ],
 "metadata": {
  "kernelspec": {
   "display_name": "deng",
   "language": "python",
   "name": "python3"
  },
  "language_info": {
   "codemirror_mode": {
    "name": "ipython",
    "version": 3
   },
   "file_extension": ".py",
   "mimetype": "text/x-python",
   "name": "python",
   "nbconvert_exporter": "python",
   "pygments_lexer": "ipython3",
   "version": "3.11.0"
  }
 },
 "nbformat": 4,
 "nbformat_minor": 2
}
